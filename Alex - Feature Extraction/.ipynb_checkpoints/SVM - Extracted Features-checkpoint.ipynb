{
 "cells": [
  {
   "cell_type": "markdown",
   "metadata": {},
   "source": [
    "# SVM"
   ]
  },
  {
   "cell_type": "code",
   "execution_count": null,
   "metadata": {},
   "outputs": [
    {
     "name": "stdout",
     "output_type": "stream",
     "text": [
      "(1300000, 8)\n",
      "(1300000, 6)\n"
     ]
    }
   ],
   "source": [
    "import numpy as np\n",
    "import pandas as pd\n",
    "#from InformationGain import ig_list\n",
    "from sklearn import datasets\n",
    "from sklearn.feature_selection import RFE\n",
    "from sklearn.linear_model import LogisticRegression\n",
    "from sklearn.ensemble import ExtraTreesClassifier\n",
    "from sklearn.feature_selection import mutual_info_classif\n",
    "from sklearn.feature_extraction.text import CountVectorizer\n",
    "from sklearn.metrics import classification_report, confusion_matrix  \n",
    "from sklearn import svm\n",
    "from sklearn.model_selection import train_test_split\n",
    "from sklearn.decomposition import PCA\n",
    "from sklearn import preprocessing\n",
    "from sklearn.model_selection import cross_val_score\n",
    "\n",
    "\n",
    "# load datasets\n",
    "df = pd.read_csv(\"image274.csv\", header = 0)\n",
    "original_headers = list(df.columns.values)\n",
    "\n",
    "# extract numeric columns\n",
    "numericColumns = df._get_numeric_data()\n",
    "\n",
    "target=numericColumns[\"Exudate Pixel\"]\n",
    "print(df.shape)\n",
    "x = df.drop([\"Exudate Pixel\",\"x\",\"y\"], axis=1).values  #returns a numpy array\n",
    "#x = x.drop(\"x\", axis=1).values  #returns a numpy array\n",
    "#x = x.drop(\"y\", axis=1).values  #returns a numpy array\n",
    "print(x.shape)\n",
    "min_max_scaler = preprocessing.MinMaxScaler()\n",
    "x_scaled = min_max_scaler.fit_transform(x) #scale x data between o and 1\n",
    "numericColumns = pd.DataFrame(x_scaled) # dataframs with x values scaled and columns with numeric index\n",
    "#print(numericColumns)\n",
    "\n",
    "\n",
    "\n",
    "\n",
    "#Apply SVM\n",
    "\n",
    "X_train, X_test, y_train, y_test = train_test_split(numericColumns, target, test_size=0.3, random_state=0)\n",
    "clf = svm.SVC(kernel='linear', C=1).fit(X_train, y_train)\n",
    "scores = cross_val_score(clf, X_train, y_train, cv=10)\n",
    "\n",
    "y_pred = clf.predict(X_test)  \n",
    "print(confusion_matrix(y_test,y_pred))  \n",
    "print(classification_report(y_test,y_pred))  \n",
    "# for k in range (1):\n",
    "#     X_train, X_test, y_train, y_test = train_test_split(numericColumns, target, test_size=0.3, random_state=0)\n",
    "#     clf = svm.SVC(kernel='rbf', C=1).fit(X_train, y_train)\n",
    "#     scores = cross_val_score(clf, X_train, y_train, cv=10)\n",
    "#     print(clf.predict(X_test[1:4]))\n",
    "#     print(y_test[1:4])\n",
    "#     print(scores)\n"
   ]
  },
  {
   "cell_type": "code",
   "execution_count": null,
   "metadata": {},
   "outputs": [],
   "source": []
  }
 ],
 "metadata": {
  "kernelspec": {
   "display_name": "Python 3",
   "language": "python",
   "name": "python3"
  },
  "language_info": {
   "codemirror_mode": {
    "name": "ipython",
    "version": 3
   },
   "file_extension": ".py",
   "mimetype": "text/x-python",
   "name": "python",
   "nbconvert_exporter": "python",
   "pygments_lexer": "ipython3",
   "version": "3.6.5"
  }
 },
 "nbformat": 4,
 "nbformat_minor": 2
}
