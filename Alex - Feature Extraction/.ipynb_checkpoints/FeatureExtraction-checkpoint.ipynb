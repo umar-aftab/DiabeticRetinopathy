{
 "cells": [
  {
   "cell_type": "code",
   "execution_count": 11,
   "metadata": {},
   "outputs": [],
   "source": [
    "import numpy as np\n",
    "import cv2\n",
    "from matplotlib import pyplot as plt\n",
    "import io\n",
    "\n",
    "\n",
    "class ExtractExudates:\n",
    "    \n",
    "    jpegImg = 0\n",
    "    grayImg = 0\n",
    "    curImg = 0\n",
    "    def __init__(self,image):\n",
    "        self.setImage(image)\n",
    "        self.greenComp()\n",
    "        self.applyCLAHE()\n",
    "        self.applyDilation()\n",
    "        self.applyThreshold()\n",
    "        self.applyMedianFilter()\n",
    "\n",
    "    def setImage(self, img):\n",
    "        self.jpegImg = img\n",
    "        print(\"Test\")\n",
    "        self.curImg = np.array(img)\n",
    "        print(self.curImg)\n",
    "        \n",
    "        ##Convert jpegFile to numpy array (Required for CV2)\n",
    "\n",
    "    def getImage(self):\n",
    "        return self.curImg\n",
    "        \n",
    "    def greenComp(self):\n",
    "    ###Extracting Green Component\n",
    "        gcImg = self.curImg[:,:,1]\n",
    "        self.curImg = gcImg\n",
    "\n",
    "    def applyCLAHE(self):\n",
    "    #Applying Contrast Limited Adaptive Histogram Equalization (CLAHE)\n",
    "        clahe = cv2.createCLAHE()\n",
    "        clImg = clahe.apply(self.curImg)\n",
    "        self.curImg = clImg\n",
    "        \n",
    "# create a CLAHE object (Arguments are optional).\n",
    "#clahe = cv2.createCLAHE(clipLimit=2.0, tileGridSize=(8,8))\n",
    "#claheImg = clahe.apply(clImg)\n",
    "#cv2.imwrite('clahe_2.jpg',claheImg)\n",
    "\n",
    "    def applyDilation(self):\n",
    "        #Creating Structurig Element\n",
    "        strEl = cv2.getStructuringElement(cv2.MORPH_ELLIPSE,(6,6))\n",
    "        #Dilation\n",
    "        dilateImg = cv2.dilate(self.curImg, strEl)\n",
    "        self.curImg = dilateImg\n",
    "\n",
    "    def applyThreshold(self):\n",
    "        #Thresholding with Complement/Inverse\n",
    "        ret,threshImg = cv2.threshold(self.curImg, 240,240, cv2.THRESH_BINARY, 2)\n",
    "        self.curImg = threshImg\n",
    "\n",
    "    def applyMedianFilter(self):\n",
    "        #Median Filtering\n",
    "        medianImg = cv2.medianBlur(self.curImg,5)\n",
    "        self.curImg = medianImg"
   ]
  },
  {
   "cell_type": "code",
   "execution_count": 12,
   "metadata": {},
   "outputs": [
    {
     "name": "stdout",
     "output_type": "stream",
     "text": [
      "Test\n",
      "[[[0 0 0]\n",
      "  [0 0 0]\n",
      "  [0 0 0]\n",
      "  ...\n",
      "  [0 0 0]\n",
      "  [0 0 0]\n",
      "  [0 0 0]]\n",
      "\n",
      " [[0 0 0]\n",
      "  [0 0 0]\n",
      "  [0 0 0]\n",
      "  ...\n",
      "  [0 0 0]\n",
      "  [0 0 0]\n",
      "  [0 0 0]]\n",
      "\n",
      " [[0 0 0]\n",
      "  [0 0 0]\n",
      "  [0 0 0]\n",
      "  ...\n",
      "  [0 0 0]\n",
      "  [0 0 0]\n",
      "  [0 0 0]]\n",
      "\n",
      " ...\n",
      "\n",
      " [[0 0 0]\n",
      "  [0 0 0]\n",
      "  [0 0 0]\n",
      "  ...\n",
      "  [0 0 0]\n",
      "  [0 0 0]\n",
      "  [0 0 0]]\n",
      "\n",
      " [[0 0 0]\n",
      "  [0 0 0]\n",
      "  [0 0 0]\n",
      "  ...\n",
      "  [0 0 0]\n",
      "  [0 0 0]\n",
      "  [0 0 0]]\n",
      "\n",
      " [[0 0 0]\n",
      "  [0 0 0]\n",
      "  [0 0 0]\n",
      "  ...\n",
      "  [0 0 0]\n",
      "  [0 0 0]\n",
      "  [0 0 0]]]\n"
     ]
    }
   ],
   "source": [
    "image = cv2.imread(\"ODmasked-image-289 (1).png\")\n",
    "a= ExtractExudates(image);\n"
   ]
  },
  {
   "cell_type": "code",
   "execution_count": 13,
   "metadata": {},
   "outputs": [
    {
     "data": {
      "text/plain": [
       "<matplotlib.image.AxesImage at 0x2aa34e121d0>"
      ]
     },
     "execution_count": 13,
     "metadata": {},
     "output_type": "execute_result"
    },
    {
     "data": {
      "image/png": "[encoded data removed]",
      "text/plain": [
       "<Figure size 432x288 with 1 Axes>"
      ]
     },
     "metadata": {
      "needs_background": "light"
     },
     "output_type": "display_data"
    }
   ],
   "source": [
    "j=a.getImage()\n",
    "plt.imshow(j)"
   ]
  },
  {
   "cell_type": "code",
   "execution_count": null,
   "metadata": {},
   "outputs": [],
   "source": []
  }
 ],
 "metadata": {
  "kernelspec": {
   "display_name": "Python 3",
   "language": "python",
   "name": "python3"
  },
  "language_info": {
   "codemirror_mode": {
    "name": "ipython",
    "version": 3
   },
   "file_extension": ".py",
   "mimetype": "text/x-python",
   "name": "python",
   "nbconvert_exporter": "python",
   "pygments_lexer": "ipython3",
   "version": "3.6.5"
  }
 },
 "nbformat": 4,
 "nbformat_minor": 2
}
