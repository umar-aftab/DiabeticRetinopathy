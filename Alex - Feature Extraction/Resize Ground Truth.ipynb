{
 "cells": [
  {
   "cell_type": "code",
   "execution_count": 3,
   "metadata": {},
   "outputs": [],
   "source": [
    "import os\n",
    "from PIL import Image\n",
    "\n",
    "\n",
    "def resize(image_path,newName):\n",
    "    im = Image.open(image_path)\n",
    "    original_size = im.size\n",
    "\n",
    "    # Want the new image to be 1300 x 1000\n",
    "    desired_ratio = 1300 / 1000\n",
    "    original_ratio = original_size[0] / original_size[1]\n",
    "\n",
    "    # if the aspect ratio is > 1.3 the width of the image is the restricting variable\n",
    "    if original_ratio >= desired_ratio:\n",
    "        ratio = float(1300) / max(original_size)\n",
    "    # if the aspect ratio is < 1.3 the height of the image is the restricting variable\n",
    "    else:\n",
    "        ratio = float(1000) / min(original_size)\n",
    "\n",
    "    # resize image to new dimensions while preserving original aspect ratio\n",
    "    new_size = tuple([int(x * ratio) for x in original_size])\n",
    "    im = im.resize(new_size, Image.ANTIALIAS)\n",
    "\n",
    "    # Create black image 1300 x 1000\n",
    "    new_image = Image.new(\"RGB\", (1300, 1000))\n",
    "\n",
    "    # Paste resized image onto black image\n",
    "    new_image.paste(im, ((1300 - new_size[0]) // 2,\n",
    "                         (1000 - new_size[1]) // 2))\n",
    "\n",
    "    new_image.save(newName)"
   ]
  },
  {
   "cell_type": "code",
   "execution_count": 5,
   "metadata": {},
   "outputs": [],
   "source": [
    "for i in range(274,281):\n",
    "    fileName = 'image-' + str(i) + '.png'\n",
    "    newName = 'resized-' + fileName \n",
    "    resize(fileName,newName)"
   ]
  }
 ],
 "metadata": {
  "kernelspec": {
   "display_name": "Python 3",
   "language": "python",
   "name": "python3"
  },
  "language_info": {
   "codemirror_mode": {
    "name": "ipython",
    "version": 3
   },
   "file_extension": ".py",
   "mimetype": "text/x-python",
   "name": "python",
   "nbconvert_exporter": "python",
   "pygments_lexer": "ipython3",
   "version": "3.6.5"
  }
 },
 "nbformat": 4,
 "nbformat_minor": 2
}
