{
 "cells": [
  {
   "cell_type": "markdown",
   "metadata": {},
   "source": [
    "# SVM"
   ]
  },
  {
   "cell_type": "code",
   "execution_count": 25,
   "metadata": {},
   "outputs": [
    {
     "name": "stdout",
     "output_type": "stream",
     "text": [
      "[[26 29]\n",
      " [20 25]]\n",
      "             precision    recall  f1-score   support\n",
      "\n",
      "          0       0.57      0.47      0.51        55\n",
      "          1       0.46      0.56      0.51        45\n",
      "\n",
      "avg / total       0.52      0.51      0.51       100\n",
      "\n"
     ]
    },
    {
     "name": "stderr",
     "output_type": "stream",
     "text": [
      "C:\\Users\\Alex\\Anaconda3\\lib\\site-packages\\sklearn\\utils\\validation.py:475: DataConversionWarning: Data with input dtype int64 was converted to float64 by MinMaxScaler.\n",
      "  warnings.warn(msg, DataConversionWarning)\n"
     ]
    }
   ],
   "source": [
    "# Recursive Feature Elimination\n",
    "import numpy as np\n",
    "import pandas as pd\n",
    "#from InformationGain import ig_list\n",
    "from sklearn import datasets\n",
    "from sklearn.feature_selection import RFE\n",
    "from sklearn.linear_model import LogisticRegression\n",
    "from sklearn.ensemble import ExtraTreesClassifier\n",
    "from sklearn.feature_selection import mutual_info_classif\n",
    "from sklearn.feature_extraction.text import CountVectorizer\n",
    "from sklearn.metrics import classification_report, confusion_matrix  \n",
    "from sklearn import svm\n",
    "from sklearn.model_selection import train_test_split\n",
    "from sklearn.decomposition import PCA\n",
    "from sklearn import preprocessing\n",
    "from sklearn.model_selection import cross_val_score\n",
    "\n",
    "\n",
    "# load cancer datasets\n",
    "df = pd.read_csv(\"testForSVM.csv\", header = 0)\n",
    "original_headers = list(df.columns.values)\n",
    "\n",
    "# extract numeric columns\n",
    "numericColumns = df._get_numeric_data()\n",
    "\n",
    "target=numericColumns[\"DR\"]\n",
    "\n",
    "x = df.drop('DR', axis=1).values  #returns a numpy array\n",
    "min_max_scaler = preprocessing.MinMaxScaler()\n",
    "x_scaled = min_max_scaler.fit_transform(x) #scale x data between o and 1\n",
    "numericColumns = pd.DataFrame(x_scaled) # dataframs with x values scaled and columns with numeric index\n",
    "#print(numericColumns)\n",
    "\n",
    "\n",
    "\n",
    "\n",
    "#Apply SVM\n",
    "\n",
    "X_train, X_test, y_train, y_test = train_test_split(numericColumns, target, test_size=0.1, random_state=0)\n",
    "clf = svm.SVC(kernel='linear', C=1).fit(X_train, y_train)\n",
    "scores = cross_val_score(clf, X_train, y_train, cv=10)\n",
    "\n",
    "y_pred = clf.predict(X_test)  \n",
    "print(confusion_matrix(y_test,y_pred))  \n",
    "print(classification_report(y_test,y_pred))  \n",
    "# for k in range (1):\n",
    "#     X_train, X_test, y_train, y_test = train_test_split(numericColumns, target, test_size=0.3, random_state=0)\n",
    "#     clf = svm.SVC(kernel='rbf', C=1).fit(X_train, y_train)\n",
    "#     scores = cross_val_score(clf, X_train, y_train, cv=10)\n",
    "#     print(clf.predict(X_test[1:4]))\n",
    "#     print(y_test[1:4])\n",
    "#     print(scores)\n"
   ]
  },
  {
   "cell_type": "code",
   "execution_count": null,
   "metadata": {},
   "outputs": [],
   "source": []
  }
 ],
 "metadata": {
  "kernelspec": {
   "display_name": "Python 3",
   "language": "python",
   "name": "python3"
  },
  "language_info": {
   "codemirror_mode": {
    "name": "ipython",
    "version": 3
   },
   "file_extension": ".py",
   "mimetype": "text/x-python",
   "name": "python",
   "nbconvert_exporter": "python",
   "pygments_lexer": "ipython3",
   "version": "3.6.5"
  }
 },
 "nbformat": 4,
 "nbformat_minor": 2
}
